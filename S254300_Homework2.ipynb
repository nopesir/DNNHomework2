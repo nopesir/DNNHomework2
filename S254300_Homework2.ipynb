{
  "nbformat": 4,
  "nbformat_minor": 0,
  "metadata": {
    "colab": {
      "name": "S254300 - Homework2",
      "provenance": [],
      "collapsed_sections": [
        "fo942LMOdlh4",
        "CLJd0LwpT6eK",
        "9gwii0TBHvzh",
        "2qYIHPzYLY7i",
        "FYEDQ7Z21ldN",
        "gbZ1t5Qs2z4j",
        "KEyL3H_R4qCf",
        "AxYUli9d9uYQ",
        "UsHFI-GAJd69"
      ],
      "machine_shape": "hm"
    },
    "kernelspec": {
      "name": "python3",
      "display_name": "Python 3"
    },
    "accelerator": "GPU"
  },
  "cells": [
    {
      "cell_type": "markdown",
      "metadata": {
        "id": "c9QcGnGPdX2C",
        "colab_type": "text"
      },
      "source": [
        "### **Install requirements**"
      ]
    },
    {
      "cell_type": "code",
      "metadata": {
        "id": "k9O3aM3Tb28q",
        "colab_type": "code",
        "colab": {}
      },
      "source": [
        "# Colab URL: https://colab.research.google.com/drive/1Lbxl_3lu1E1uxJKjm_acQkgXqBvjFbsN#scrollTo=LjX6UizGdU3K\n",
        "\n",
        "!pip3 install 'torch'\n",
        "!pip3 install 'torchvision'\n",
        "!pip3 install 'Pillow-SIMD'\n",
        "!pip3 install 'utils'\n",
        "!pip3 install 'livelossplot'\n",
        "!pip3 install 'tqdm'"
      ],
      "execution_count": 0,
      "outputs": []
    },
    {
      "cell_type": "markdown",
      "metadata": {
        "id": "fo942LMOdlh4",
        "colab_type": "text"
      },
      "source": [
        "### **Import libraries**"
      ]
    },
    {
      "cell_type": "code",
      "metadata": {
        "id": "DokFOdD1dJEl",
        "colab_type": "code",
        "colab": {}
      },
      "source": [
        "import os\n",
        "import logging\n",
        "import torch\n",
        "import torch.nn as nn\n",
        "import torch.optim as optim\n",
        "from torch.utils.data import Subset, DataLoader, random_split, Sampler, ConcatDataset\n",
        "from torch.backends import cudnn\n",
        "import torchvision\n",
        "from torchvision import transforms\n",
        "from torchvision.models import alexnet, resnext101_32x8d, inception_v3\n",
        "from torchvision.models.inception import InceptionAux\n",
        "from torchvision.datasets import VisionDataset\n",
        "from PIL import Image\n",
        "from tqdm import tqdm\n",
        "from pandas import read_csv\n",
        "import copy\n",
        "from livelossplot import PlotLosses\n",
        "import os.path\n",
        "import sys\n",
        "import numpy as np\n",
        "from torchvision import datasets\n",
        "from torch.utils.data.sampler import SubsetRandomSampler"
      ],
      "execution_count": 0,
      "outputs": []
    },
    {
      "cell_type": "markdown",
      "metadata": {
        "id": "CLJd0LwpT6eK",
        "colab_type": "text"
      },
      "source": [
        "### **Constant definition**"
      ]
    },
    {
      "cell_type": "code",
      "metadata": {
        "colab_type": "code",
        "outputId": "dcdf07e0-4852-4cdf-8e7d-f555bc63ee60",
        "cellView": "code",
        "id": "hmnoZryKTbWX",
        "colab": {
          "base_uri": "https://localhost:8080/",
          "height": 70
        }
      },
      "source": [
        "\n",
        "DEVICE = 'cuda' if torch.cuda.is_available() else 'cpu'\n",
        "print('Device is: ' + DEVICE)\n",
        "\n",
        "NUM_CLASSES = 101    # 101 + 1: There is am extra Background class that should be removed \n",
        "LOG_FREQUENCY = 5\n",
        "\n",
        "# Epochs after which the graphs draw the updated logs\n",
        "FREQDRAW = 2\n",
        "\n",
        "\n",
        "\n",
        "# inception_v3 hyperparameters (below all the parameters used in the Homework)\n",
        "BATCH_SIZE = 50     # Higher batch sizes allows for larger learning rates. An empirical heuristic suggests that, when changing\n",
        "                     # the batch size, learning rate should change by the same factor to have comparable results\n",
        "LR = 3e-3            # The initial Learning Rate\n",
        "MOMENTUM = 0.9       # Hyperparameter for SGD, keep this at 0.9 when using SGD\n",
        "WEIGHT_DECAY = 5e-5  # Regularization, you can keep this at the default\n",
        "NUM_EPOCHS = 15      # Total number of training epochs (iterations over dataset)\n",
        "STEP_SIZE = 13       # How many epochs before decreasing learning rate (if using a step-down policy)\n",
        "GAMMA = 0.5          # Multiplicative factor for learning rate step-down\n",
        "\n",
        "\n",
        "'''\n",
        "# 2C 1st hyperparameters\n",
        "BATCH_SIZE = 964     # Higher batch sizes allows for larger learning rates. An empirical heuristic suggests that, when changing\n",
        "                     # the batch size, learning rate should change by the same factor to have comparable results\n",
        "LR = 1e-1            # The initial Learning Rate\n",
        "MOMENTUM = 0.9       # Hyperparameter for SGD, keep this at 0.9 when using SGD\n",
        "WEIGHT_DECAY = 5e-5  # Regularization, you can keep this at the default\n",
        "NUM_EPOCHS = 30      # Total number of training epochs (iterations over dataset)\n",
        "STEP_SIZE = 10       # How many epochs before decreasing learning rate (if using a step-down policy)\n",
        "GAMMA = 0.6          # Multiplicative factor for learning rate step-down\n",
        "\n",
        "# 2C 2nd hyperparameters\n",
        "BATCH_SIZE = 964     # Higher batch sizes allows for larger learning rates. An empirical heuristic suggests that, when changing\n",
        "                     # the batch size, learning rate should change by the same factor to have comparable results\n",
        "LR = 7e-2            # The initial Learning Rate\n",
        "MOMENTUM = 0.9       # Hyperparameter for SGD, keep this at 0.9 when using SGD\n",
        "WEIGHT_DECAY = 5e-5  # Regularization, you can keep this at the default\n",
        "NUM_EPOCHS = 40      # Total number of training epochs (iterations over dataset)\n",
        "STEP_SIZE = 10       # How many epochs before decreasing learning rate (if using a step-down policy)\n",
        "GAMMA = 0.9          # Multiplicative factor for learning rate step-down\n",
        "\n",
        "\n",
        "# 3C 1st hyperparameters\n",
        "BATCH_SIZE = 964     # Higher batch sizes allows for larger learning rates. An empirical heuristic suggests that, when changing\n",
        "                     # the batch size, learning rate should change by the same factor to have comparable results\n",
        "LR = 5e-3            # The initial Learning Rate\n",
        "MOMENTUM = 0.9       # Hyperparameter for SGD, keep this at 0.9 when using SGD\n",
        "WEIGHT_DECAY = 5e-5  # Regularization, you can keep this at the default\n",
        "NUM_EPOCHS = 30      # Total number of training epochs (iterations over dataset)\n",
        "STEP_SIZE = 25       # How many epochs before decreasing learning rate (if using a step-down policy)\n",
        "GAMMA = 0.5          # Multiplicative factor for learning rate step-down\n",
        "\n",
        "# 3C 2nd hyperparameters and 3D and 3E\n",
        "BATCH_SIZE = 964     # Higher batch sizes allows for larger learning rates. An empirical heuristic suggests that, when changing\n",
        "                     # the batch size, learning rate should change by the same factor to have comparable results\n",
        "LR = 2e-2            # The initial Learning Rate\n",
        "MOMENTUM = 0.9       # Hyperparameter for SGD, keep this at 0.9 when using SGD\n",
        "WEIGHT_DECAY = 5e-5  # Regularization, you can keep this at the default\n",
        "NUM_EPOCHS = 30      # Total number of training epochs (iterations over dataset)\n",
        "STEP_SIZE = 25       # How many epochs before decreasing learning rate (if using a step-down policy)\n",
        "GAMMA = 0.5          # Multiplicative factor for learning rate step-down\n",
        "\n",
        "# 3C 3rd hyperparameters\n",
        "BATCH_SIZE = 964     # Higher batch sizes allows for larger learning rates. An empirical heuristic suggests that, when changing\n",
        "                     # the batch size, learning rate should change by the same factor to have comparable results\n",
        "LR = 2e-3            # The initial Learning Rate\n",
        "MOMENTUM = 0.9       # Hyperparameter for SGD, keep this at 0.9 when using SGD\n",
        "WEIGHT_DECAY = 5e-5  # Regularization, you can keep this at the default\n",
        "NUM_EPOCHS = 40      # Total number of training epochs (iterations over dataset)\n",
        "STEP_SIZE = 10       # How many epochs before decreasing learning rate (if using a step-down policy)\n",
        "GAMMA = 0.5          # Multiplicative factor for learning rate step-down\n",
        "\n",
        "\n",
        "# resnext101_32x8d hyperparameters\n",
        "BATCH_SIZE = 50     # Higher batch sizes allows for larger learning rates. An empirical heuristic suggests that, when changing\n",
        "                     # the batch size, learning rate should change by the same factor to have comparable results\n",
        "LR = 4e-4            # The initial Learning Rate\n",
        "MOMENTUM = 0.9       # Hyperparameter for SGD, keep this at 0.9 when using SGD\n",
        "WEIGHT_DECAY = 5e-5  # Regularization, you can keep this at the default\n",
        "NUM_EPOCHS = 20      # Total number of training epochs (iterations over dataset)\n",
        "STEP_SIZE = 18       # How many epochs before decreasing learning rate (if using a step-down policy)\n",
        "GAMMA = 0.5          # Multiplicative factor for learning rate step-down\n",
        "\n",
        "# inception_v3 hyperparameters\n",
        "BATCH_SIZE = 50     # Higher batch sizes allows for larger learning rates. An empirical heuristic suggests that, when changing\n",
        "                     # the batch size, learning rate should change by the same factor to have comparable results\n",
        "LR = 3e-3            # The initial Learning Rate\n",
        "MOMENTUM = 0.9       # Hyperparameter for SGD, keep this at 0.9 when using SGD\n",
        "WEIGHT_DECAY = 5e-5  # Regularization, you can keep this at the default\n",
        "NUM_EPOCHS = 15      # Total number of training epochs (iterations over dataset)\n",
        "STEP_SIZE = 13       # How many epochs before decreasing learning rate (if using a step-down policy)\n",
        "GAMMA = 0.5          # Multiplicative factor for learning rate step-down\n",
        "'''"
      ],
      "execution_count": 0,
      "outputs": [
        {
          "output_type": "stream",
          "text": [
            "Device is: cuda\n"
          ],
          "name": "stdout"
        },
        {
          "output_type": "execute_result",
          "data": {
            "text/plain": [
              "'\\n# 2C 1st hyperparameters\\nBATCH_SIZE = 964     # Higher batch sizes allows for larger learning rates. An empirical heuristic suggests that, when changing\\n                     # the batch size, learning rate should change by the same factor to have comparable results\\nLR = 1e-1            # The initial Learning Rate\\nMOMENTUM = 0.9       # Hyperparameter for SGD, keep this at 0.9 when using SGD\\nWEIGHT_DECAY = 5e-5  # Regularization, you can keep this at the default\\nNUM_EPOCHS = 30      # Total number of training epochs (iterations over dataset)\\nSTEP_SIZE = 10       # How many epochs before decreasing learning rate (if using a step-down policy)\\nGAMMA = 0.6          # Multiplicative factor for learning rate step-down\\n\\n# 2C 2nd hyperparameters\\nBATCH_SIZE = 964     # Higher batch sizes allows for larger learning rates. An empirical heuristic suggests that, when changing\\n                     # the batch size, learning rate should change by the same factor to have comparable results\\nLR = 7e-2            # The initial Learning Rate\\nMOMENTUM = 0.9       # Hyperparameter for SGD, keep this at 0.9 when using SGD\\nWEIGHT_DECAY = 5e-5  # Regularization, you can keep this at the default\\nNUM_EPOCHS = 40      # Total number of training epochs (iterations over dataset)\\nSTEP_SIZE = 10       # How many epochs before decreasing learning rate (if using a step-down policy)\\nGAMMA = 0.9          # Multiplicative factor for learning rate step-down\\n\\n\\n# 3C 1st hyperparameters\\nBATCH_SIZE = 964     # Higher batch sizes allows for larger learning rates. An empirical heuristic suggests that, when changing\\n                     # the batch size, learning rate should change by the same factor to have comparable results\\nLR = 5e-3            # The initial Learning Rate\\nMOMENTUM = 0.9       # Hyperparameter for SGD, keep this at 0.9 when using SGD\\nWEIGHT_DECAY = 5e-5  # Regularization, you can keep this at the default\\nNUM_EPOCHS = 30      # Total number of training epochs (iterations over dataset)\\nSTEP_SIZE = 25       # How many epochs before decreasing learning rate (if using a step-down policy)\\nGAMMA = 0.5          # Multiplicative factor for learning rate step-down\\n\\n# 3C 2nd hyperparameters and 3D and 3E\\nBATCH_SIZE = 964     # Higher batch sizes allows for larger learning rates. An empirical heuristic suggests that, when changing\\n                     # the batch size, learning rate should change by the same factor to have comparable results\\nLR = 2e-2            # The initial Learning Rate\\nMOMENTUM = 0.9       # Hyperparameter for SGD, keep this at 0.9 when using SGD\\nWEIGHT_DECAY = 5e-5  # Regularization, you can keep this at the default\\nNUM_EPOCHS = 30      # Total number of training epochs (iterations over dataset)\\nSTEP_SIZE = 25       # How many epochs before decreasing learning rate (if using a step-down policy)\\nGAMMA = 0.5          # Multiplicative factor for learning rate step-down\\n\\n# 3C 3rd hyperparameters\\nBATCH_SIZE = 964     # Higher batch sizes allows for larger learning rates. An empirical heuristic suggests that, when changing\\n                     # the batch size, learning rate should change by the same factor to have comparable results\\nLR = 2e-3            # The initial Learning Rate\\nMOMENTUM = 0.9       # Hyperparameter for SGD, keep this at 0.9 when using SGD\\nWEIGHT_DECAY = 5e-5  # Regularization, you can keep this at the default\\nNUM_EPOCHS = 40      # Total number of training epochs (iterations over dataset)\\nSTEP_SIZE = 10       # How many epochs before decreasing learning rate (if using a step-down policy)\\nGAMMA = 0.5          # Multiplicative factor for learning rate step-down\\n\\n\\n# resnext101_32x8d hyperparameters\\nBATCH_SIZE = 50     # Higher batch sizes allows for larger learning rates. An empirical heuristic suggests that, when changing\\n                     # the batch size, learning rate should change by the same factor to have comparable results\\nLR = 4e-4            # The initial Learning Rate\\nMOMENTUM = 0.9       # Hyperparameter for SGD, keep this at 0.9 when using SGD\\nWEIGHT_DECAY = 5e-5  # Regularization, you can keep this at the default\\nNUM_EPOCHS = 20      # Total number of training epochs (iterations over dataset)\\nSTEP_SIZE = 18       # How many epochs before decreasing learning rate (if using a step-down policy)\\nGAMMA = 0.5          # Multiplicative factor for learning rate step-down\\n\\n# inception_v3 hyperparameters\\nBATCH_SIZE = 50     # Higher batch sizes allows for larger learning rates. An empirical heuristic suggests that, when changing\\n                     # the batch size, learning rate should change by the same factor to have comparable results\\nLR = 3e-3            # The initial Learning Rate\\nMOMENTUM = 0.9       # Hyperparameter for SGD, keep this at 0.9 when using SGD\\nWEIGHT_DECAY = 5e-5  # Regularization, you can keep this at the default\\nNUM_EPOCHS = 15      # Total number of training epochs (iterations over dataset)\\nSTEP_SIZE = 13       # How many epochs before decreasing learning rate (if using a step-down policy)\\nGAMMA = 0.5          # Multiplicative factor for learning rate step-down\\n'"
            ]
          },
          "metadata": {
            "tags": []
          },
          "execution_count": 2
        }
      ]
    },
    {
      "cell_type": "markdown",
      "metadata": {
        "id": "IEmMLY-wUd8n",
        "colab_type": "text"
      },
      "source": [
        "### **Create Caltech dataset (1 A/B)**"
      ]
    },
    {
      "cell_type": "code",
      "metadata": {
        "id": "LjX6UizGdU3K",
        "colab_type": "code",
        "colab": {}
      },
      "source": [
        "def pil_loader(path):\n",
        "    # open path as file to avoid ResourceWarning (https://github.com/python-pillow/Pillow/issues/835)\n",
        "    with open(path, 'rb') as f:\n",
        "        img = Image.open(f)\n",
        "        return img.convert('RGB')\n",
        "\n",
        "\n",
        "\n",
        "class Caltech(VisionDataset):\n",
        "    def __init__(self, root, split='train', transform=None, target_transform=None):\n",
        "        super(Caltech, self).__init__(root, transform=transform, target_transform=target_transform)\n",
        "\n",
        "        self.split = split \n",
        "        self.loader = pil_loader\n",
        "\n",
        "        if self.split == 'train':\n",
        "          X = read_csv(str(root).split('/')[0] + '/train.txt', sep=\"/\", header=None)\n",
        "          f = open(str(root) + '/train.txt', \"r\")\n",
        "        elif self.split == 'test':\n",
        "          X = read_csv(str(root).split('/')[0] + '/test.txt', sep=\"/\", header=None)\n",
        "          f = open(str(root) + '/test.txt', \"r\")\n",
        "\n",
        "        classes = [item for item in list(set(X[0])) if \"BACKGROUND\" not in item]\n",
        "        classes.sort()\n",
        "        class_to_idx = {classes[i]: i for i in range(len(classes))}\n",
        "\n",
        "        samples = []\n",
        "        for path in f.readlines():\n",
        "            path = path.rstrip('\\n')\n",
        "            if \"BACKGROUND\" not in path:\n",
        "                samples.append((pil_loader(root + '/101_ObjectCategories/' + path), class_to_idx[path.split(\"/\")[0]]))\n",
        "                \n",
        "\n",
        "        self.samples = samples\n",
        "        self.classes = classes\n",
        "        self.class_to_idx = class_to_idx \n",
        "        self.labels = list(class_to_idx.values())\n",
        "        f.close()\n",
        "\n",
        "    def __getitem__(self, index):\n",
        "        '''\n",
        "        __getitem__ should access an element through its index\n",
        "        Args:\n",
        "            index (int): Index\n",
        "\n",
        "        Returns:\n",
        "            tuple: (sample, target) where target is class_index of the target class.\n",
        "        '''\n",
        "\n",
        "        image, label = self.samples[index]\n",
        "\n",
        "        # Applies preprocessing when accessing the image\n",
        "        if self.transform is not None:\n",
        "            image = self.transform(image)\n",
        "\n",
        "        return image, label\n",
        "\n",
        "    def __len__(self):\n",
        "        '''\n",
        "        The __len__ method returns the length of the dataset\n",
        "        It is mandatory, as this is used by several other components\n",
        "        '''\n",
        "        length = len(self.samples) # Provide a way to get the length (number of elements) of the dataset\n",
        "        return length"
      ],
      "execution_count": 0,
      "outputs": []
    },
    {
      "cell_type": "markdown",
      "metadata": {
        "id": "9gwii0TBHvzh",
        "colab_type": "text"
      },
      "source": [
        "### **Define data pre-processing**"
      ]
    },
    {
      "cell_type": "code",
      "metadata": {
        "colab_type": "code",
        "id": "Yxi_BrSQcE3N",
        "colab": {}
      },
      "source": [
        "# Initial transforms\n",
        "# Define transforms for the evaluation phase\n",
        "eval_transform = transforms.Compose([transforms.Resize(320),\n",
        "                                      transforms.CenterCrop(299),\n",
        "                                      transforms.ToTensor(),\n",
        "                                      transforms.Normalize((0.485, 0.456, 0.406), (0.229, 0.224, 0.225))                                    \n",
        "])\n",
        "\n",
        "# Define transforms for the validation phase\n",
        "valid_transform = transforms.Compose([transforms.Resize(320),\n",
        "                                  transforms.CenterCrop(299),\n",
        "                                  transforms.ToTensor(),\n",
        "                                  transforms.Normalize((0.485, 0.456, 0.406), (0.229, 0.224, 0.225))\n",
        "])\n",
        "\n",
        "# Define transforms for the train phase\n",
        "train_transform = transforms.Compose([transforms.Resize(320), \n",
        "                                  transforms.CenterCrop(299),\n",
        "                                  transforms.ToTensor(),\n",
        "                                  transforms.Normalize((0.485, 0.456, 0.406), (0.229, 0.224, 0.225))\n",
        "])\n",
        "\n",
        "\n",
        "# 4A, only with alexnet\n",
        "# Define transforms for the data augmentation (for the train)\n",
        "first = transforms.Compose([transforms.Resize(256),\n",
        "                              transforms.CenterCrop(224),\n",
        "                              transforms.RandomHorizontalFlip(),\n",
        "                              transforms.ToTensor(),\n",
        "                              transforms.Normalize((0.485, 0.456, 0.406), (0.229, 0.224, 0.225))\n",
        "    ])\n",
        "\n",
        "\n",
        "second = transforms.Compose([transforms.Resize(256),\n",
        "                              transforms.CenterCrop(224),\n",
        "                              transforms.RandomVerticalFlip(),\n",
        "                              transforms.RandomPerspective(),\n",
        "                              transforms.ToTensor(),\n",
        "                              transforms.Normalize((0.485, 0.456, 0.406), (0.229, 0.224, 0.225))\n",
        "    ])\n",
        "\n",
        "\n",
        "third = transforms.Compose([transforms.Resize(256), transforms.CenterCrop(224), \n",
        "                            transforms.RandomRotation(180), transforms.RandomVerticalFlip(),\n",
        "                            transforms.RandomHorizontalFlip(), transforms.RandomPerspective(),\n",
        "                            transforms.ToTensor(), transforms.Normalize((0.485, 0.456, 0.406), (0.229, 0.224, 0.225))\n",
        "                            ])\n",
        "\n",
        "\n",
        "\n",
        "# Info for various settings change\n",
        "# Default: Normalize((0.5, 0.5, 0.5), (0.5, 0.5, 0.5))\n",
        "# With pretrained nets: Normalize((0.485, 0.456, 0.406), (0.229, 0.224, 0.225))\n",
        "# With inception_v3 net: Resize(320) and CenterCrop(299) because it has 299x299 input\n",
        "# With others net: Resize(256) and CenterCrop(224) because they have 224x224 input"
      ],
      "execution_count": 0,
      "outputs": []
    },
    {
      "cell_type": "markdown",
      "metadata": {
        "id": "2qYIHPzYLY7i",
        "colab_type": "text"
      },
      "source": [
        "### **Prepare Dataset**"
      ]
    },
    {
      "cell_type": "code",
      "metadata": {
        "id": "QfVq_uDHLbsR",
        "colab_type": "code",
        "colab": {}
      },
      "source": [
        "# Clone github repository with data\n",
        "if not os.path.isdir('./Homework2-Caltech101'):\n",
        "  !git clone https://github.com/MachineLearning2020/Homework2-Caltech101.git\n",
        "\n",
        "DATA_DIR = 'Homework2-Caltech101'\n",
        "\n",
        "# Load the dataset with the default transform (on Data Augmentation, modify transform before the training loop as written below)\n",
        "dataset = Caltech(DATA_DIR, transform=train_transform)\n",
        "\n",
        "# Creating data indices for training and validation splits\n",
        "train_indices = [idx for idx in range(len(dataset)) if idx % 2]\n",
        "val_indices = [idx for idx in range(len(dataset)) if not idx % 2]\n",
        "\n",
        "# Creating data samplers that will pass to the Dataloader only the selected indexes\n",
        "train_sampler = SubsetRandomSampler(train_indices)\n",
        "valid_sampler = SubsetRandomSampler(val_indices)\n",
        "\n",
        "# Load the test set\n",
        "test_dataset = Caltech(DATA_DIR, split='test', transform=eval_transform)\n"
      ],
      "execution_count": 0,
      "outputs": []
    },
    {
      "cell_type": "markdown",
      "metadata": {
        "id": "FYEDQ7Z21ldN",
        "colab_type": "text"
      },
      "source": [
        "### **Prepare Dataloaders**"
      ]
    },
    {
      "cell_type": "code",
      "metadata": {
        "id": "VriRw8SI1nle",
        "colab_type": "code",
        "colab": {}
      },
      "source": [
        "# Dataloaders iterate over pytorch datasets and transparently provide useful functions (e.g. parallelization and shuffling), we use them pinned into the CUDA\n",
        "\n",
        "train_dataloader = DataLoader(dataset, batch_size=BATCH_SIZE, sampler=train_sampler, num_workers=1, pin_memory=True, drop_last=True)\n",
        "val_dataloader = DataLoader(dataset, batch_size=BATCH_SIZE, sampler=valid_sampler, num_workers=1, pin_memory=True, drop_last=True)\n",
        "\n",
        "test_dataloader = DataLoader(test_dataset, batch_size=BATCH_SIZE, shuffle=False, num_workers=1, pin_memory=True)"
      ],
      "execution_count": 0,
      "outputs": []
    },
    {
      "cell_type": "markdown",
      "metadata": {
        "id": "gbZ1t5Qs2z4j",
        "colab_type": "text"
      },
      "source": [
        "### **Prepare Network**"
      ]
    },
    {
      "cell_type": "code",
      "metadata": {
        "id": "exHUjtXa22DN",
        "colab_type": "code",
        "colab": {}
      },
      "source": [
        "# NETs\n",
        "\n",
        "# Not trained alexnet () \n",
        "# net = alexnet()\n",
        "\n",
        "# Pretrained all\n",
        "# net = alexnet(pretrained=True)\n",
        "# net = resnext101_32x8d(pretrained=True)\n",
        "net = inception_v3(pretrained=True, aux_logits=False)\n",
        "\n",
        "\n",
        "\n",
        "# NETs MODIFICATIONS\n",
        "\n",
        "# inception_v3 & resnext10\n",
        "net.fc = nn.Linear(2048, NUM_CLASSES)\n",
        "\n",
        "# alexnet\n",
        "# net.classifier[6] = nn.Linear(4096, NUM_CLASSES)"
      ],
      "execution_count": 0,
      "outputs": []
    },
    {
      "cell_type": "markdown",
      "metadata": {
        "id": "KEyL3H_R4qCf",
        "colab_type": "text"
      },
      "source": [
        "### **Prepare Training**"
      ]
    },
    {
      "cell_type": "code",
      "metadata": {
        "id": "9sjq00G94tSc",
        "colab_type": "code",
        "colab": {}
      },
      "source": [
        "# Define loss function\n",
        "criterion = nn.CrossEntropyLoss() # for classification, we use Cross Entropy\n",
        "\n",
        "# PARAMETERS TO OPTIMIZE\n",
        "\n",
        "# All the parameters (valid for every model) \n",
        "# parameters_to_optimize = net.parameters()\n",
        "\n",
        "# Only fully connected layers of alexnet \n",
        "# parameters_to_optimize = net.classifier.parameters()\n",
        "\n",
        "# Only convolutional layers of alexnet\n",
        "# parameters_to_optimize = net.features.parameters()\n",
        "\n",
        "# Only fully connected layer of resnext101\n",
        "# parameters_to_optimize = net.fc.parameters()\n",
        "\n",
        "# Only first convolutional layers and the last fully connected layer of inception_v3\n",
        "parameters_to_optimize = [{'params': net.Conv2d_1a_3x3.parameters()}, {'params': net.Conv2d_2a_3x3.parameters()},\n",
        "                           {'params': net.Conv2d_2b_3x3.parameters()}, {'params': net.Conv2d_3b_1x1.parameters()}, \n",
        "                           {'params': net.Conv2d_4a_3x3.parameters()}, {'params': net.fc.parameters()}]\n",
        "\n",
        "\n",
        "# OPTIMIZER\n",
        "\n",
        "# Adam optimizer\n",
        "# optimizer = optim.Adam(params = parameters_to_optimize, lr=LR)\n",
        "\n",
        "# SGD with momentum optimizer\n",
        "optimizer = optim.SGD(parameters_to_optimize, lr=LR, momentum=MOMENTUM, weight_decay=WEIGHT_DECAY)\n",
        "\n",
        "# Define StepLR scheduler\n",
        "scheduler = optim.lr_scheduler.StepLR(optimizer, step_size=STEP_SIZE, gamma=GAMMA)\n",
        "\n",
        "# By default, everything is loaded to cpu\n",
        "net = net.to(DEVICE) # this will bring the network to GPU if DEVICE is cuda\n",
        "cudnn.benchmark # Calling this optimizes runtime\n",
        "\n",
        "\n",
        "# Early stopping implementation (uncomment in the for loop too)\n",
        "'''\n",
        "# For early stopping\n",
        "n_epochs_stop = 7\n",
        "min_val_loss = np.Inf\n",
        "best_net = None\n",
        "'''\n",
        "\n",
        "# For live plotting graphs\n",
        "liveloss = PlotLosses()\n",
        "\n",
        "# Params\n",
        "best_net_acc = None\n",
        "best_acc = 0"
      ],
      "execution_count": 0,
      "outputs": []
    },
    {
      "cell_type": "markdown",
      "metadata": {
        "id": "AxYUli9d9uYQ",
        "colab_type": "text"
      },
      "source": [
        "### **Train**"
      ]
    },
    {
      "cell_type": "code",
      "metadata": {
        "id": "ZcoQ5fD49yT_",
        "colab_type": "code",
        "cellView": "code",
        "outputId": "9c6bf1d4-ebea-420f-fa63-95a6e5852ec5",
        "colab": {
          "base_uri": "https://localhost:8080/",
          "height": 478
        }
      },
      "source": [
        "\n",
        "%%time\n",
        "\n",
        "# Start iterating over the epochs\n",
        "for epoch in range(NUM_EPOCHS):\n",
        "  \n",
        "  logs = {}  # Reset the logs for earch epoch\n",
        "  print('Starting epoch {}/{}, LR = {}'.format(epoch+1, NUM_EPOCHS, scheduler.get_lr()))\n",
        "  train_loss = 0                                                                          # Reset the sum of the losses for each epochs in train\n",
        "  valid_loss = 0                                                                          # Reset the sum of the losses for each epochs in validation\n",
        "  net.train()                                                                             # Set the net in train mode \n",
        "  running_corrects = 0                                                                    # Reset the number of correct predictions on train\n",
        "  train_dataloader.dataset.transform = train_transform                                    # Switch the transform to be used in __getitem__(): train_transform, first, second or third\n",
        "  for batch_idx, (images, target) in enumerate(train_dataloader):                         # Start the training using train dataloader batch-by-batch\n",
        "    images, target = images.to(DEVICE), target.to(DEVICE)\n",
        "    \n",
        "\n",
        "    outputs = net(images)\n",
        "    loss = criterion(outputs, target)\n",
        "    optimizer.zero_grad()\n",
        "    loss.backward()\n",
        "    optimizer.step()\n",
        "    _, preds = torch.max(outputs, 1)\n",
        "\n",
        "    train_loss += loss.detach() * images.size(0)                                          # Update the total training loss for this epoch\n",
        "\n",
        "    running_corrects += torch.sum(preds == target.data)                                   # Update the number of correct predictions on train for this epoch\n",
        "    if batch_idx % LOG_FREQUENCY == 0:\n",
        "      print('Train Epoch: {} [{}/{} ({:.0f}%)]\\tLoss: {:.4f}'.format(epoch+1, (batch_idx*BATCH_SIZE),\n",
        "                                                                     (len(train_dataloader)*BATCH_SIZE), 100*(batch_idx/len(train_dataloader)), loss.item()))\n",
        "  \n",
        "  train_acc = running_corrects.float() / (len(train_dataloader) * BATCH_SIZE)             # Retrieve the accuracy on train set for this epoch\n",
        "\n",
        "  net.train(mode=False)                                                                   # Set the net in evaluation mode\n",
        "  correct = 0                                                                             # Reset the number of correct predictions on validation\n",
        "  val_dataloader.dataset.transform = valid_transform                                      # Switch the transform to be used in __getitem__(): valid_transform\n",
        "  with torch.no_grad():\n",
        "    for data, target in val_dataloader:                                                   # Start the evaluation using validation dataloader batch-by-batch\n",
        "      data, target = data.to(DEVICE), target.to(DEVICE)\n",
        "      outputs = net(data)\n",
        "      loss = criterion(outputs, target)\n",
        "\n",
        "      valid_loss += loss.detach() * data.size(0)                                          # Update the total validation loss for this epoch\n",
        "      # Get predictions\n",
        "      _, preds = torch.max(outputs.data, 1)\n",
        "\n",
        "      # Update Corrects\n",
        "      correct += torch.sum(preds == target.data)                                          # Update the number of correct predictions on validation for this epoch\n",
        "\n",
        "  # Calculate Accuracy\n",
        "  accuracy = correct / float(len(val_dataloader) * BATCH_SIZE)                            # Retrieve the accuracy on train set for this epoch\n",
        "\n",
        "  print('\\nValidation set accuracy: {:.3f}%\\n'.format(\n",
        "      accuracy*100))\n",
        "  \n",
        "\n",
        "  \n",
        "  valid_loss = valid_loss/(len(val_dataloader)* BATCH_SIZE)                               # Compute the mean validation loss for this epoch\n",
        "  train_loss = train_loss/(len(train_dataloader) * BATCH_SIZE)                            # Compute the mean train loss for this epoch\n",
        "\n",
        "  # Log everything\n",
        "  logs['log loss'] = train_loss.item()\n",
        "  logs['val_log loss'] = valid_loss.item()\n",
        "  logs['accuracy'] = train_acc.item()\n",
        "  logs['val_accuracy'] = accuracy.item()\n",
        "\n",
        "  print('Validation mean loss: ' + str(valid_loss.item()))\n",
        "  print('Train mean loss: ' + str(train_loss.item()))\n",
        "  print('Gap (Validation - Train): ' + str(valid_loss.item() - train_loss.item()))\n",
        "\n",
        "  if accuracy.item() > best_acc:                                                          # Check for the best accuracy and possibly save it\n",
        "    best_acc = accuracy\n",
        "    best_net_acc = copy.deepcopy(net)\n",
        "\n",
        "\n",
        "  # Implementation of the early stopping mechanism\n",
        "  '''\n",
        "  # EARLY STOPPING IMPLEMENTATION\n",
        "  if valid_loss.item() < min_val_loss:\n",
        "  # Save the model\n",
        "    best_net = copy.deepcopy(net)\n",
        "    epochs_no_improve = 0\n",
        "    min_val_loss = valid_loss\n",
        "  \n",
        "  else:\n",
        "    epochs_no_improve += 1\n",
        "    # Check early stopping condition\n",
        "    if epochs_no_improve == n_epochs_stop:\n",
        "      print('Early stopping!')\n",
        "      \n",
        "      # Load in the best model\n",
        "      net = copy.deepcopy(best_net)\n",
        "  '''\n",
        "  \n",
        "  liveloss.update(logs)                                                                 # Update the logs for the plotting graph\n",
        "  if epoch % FREQDRAW == 0:\n",
        "    liveloss.draw()                                                                     # Draw every FREQDRAW the current graph situation\n",
        "\n",
        "  scheduler.step()                                                                      # Step the scheduler for the next epoch\n",
        "\n",
        "liveloss.draw()                                                                         # Draw the residual graph"
      ],
      "execution_count": 0,
      "outputs": [
        {
          "output_type": "display_data",
          "data": {
            "image/png": "[encoded data removed]",
            "text/plain": [
              "<Figure size 864x576 with 2 Axes>"
            ]
          },
          "metadata": {
            "tags": []
          }
        },
        {
          "output_type": "stream",
          "text": [
            "log loss:\n",
            "training   (min:    0.412, max:    3.746, cur:    0.412)\n",
            "validation (min:    0.588, max:    3.039, cur:    0.588)\n",
            "\n",
            "accuracy:\n",
            "training   (min:    0.223, max:    0.966, cur:    0.966)\n",
            "validation (min:    0.351, max:    0.915, cur:    0.915)\n",
            "CPU times: user 3min 58s, sys: 2min 25s, total: 6min 24s\n",
            "Wall time: 7min 42s\n"
          ],
          "name": "stdout"
        }
      ]
    },
    {
      "cell_type": "markdown",
      "metadata": {
        "id": "UsHFI-GAJd69",
        "colab_type": "text"
      },
      "source": [
        "### **Test**"
      ]
    },
    {
      "cell_type": "code",
      "metadata": {
        "id": "EO3HV5pqJg1o",
        "colab_type": "code",
        "outputId": "966857e5-aa9c-4d6f-e430-6d446f29a80e",
        "colab": {
          "base_uri": "https://localhost:8080/",
          "height": 50
        }
      },
      "source": [
        "net = None\n",
        "best_net = None\n",
        "net = best_net_acc.to(DEVICE) # this will bring the network to GPU if DEVICE is cuda\n",
        "net.train(False) # Set Network to evaluation mode\n",
        "\n",
        "running_corrects = 0\n",
        "for images, labels in tqdm(test_dataloader):\n",
        "  images = images.to(DEVICE)\n",
        "  labels = labels.to(DEVICE)\n",
        "\n",
        "  # Forward Pass\n",
        "  outputs = net(images)\n",
        "\n",
        "  # Get predictions\n",
        "  _, preds = torch.max(outputs.data, 1)\n",
        "\n",
        "  # Update Corrects\n",
        "  running_corrects += torch.sum(preds == labels.data).data.item()\n",
        "\n",
        "# Calculate Accuracy\n",
        "accuracy = running_corrects / float(len(test_dataloader.dataset))\n",
        "\n",
        "print('Test Accuracy: {}'.format(accuracy))"
      ],
      "execution_count": 0,
      "outputs": [
        {
          "output_type": "stream",
          "text": [
            "100%|██████████| 58/58 [00:08<00:00,  7.11it/s]"
          ],
          "name": "stderr"
        },
        {
          "output_type": "stream",
          "text": [
            "Test Accuracy: 0.9104735568613895\n"
          ],
          "name": "stdout"
        },
        {
          "output_type": "stream",
          "text": [
            "\n"
          ],
          "name": "stderr"
        }
      ]
    }
  ]
}